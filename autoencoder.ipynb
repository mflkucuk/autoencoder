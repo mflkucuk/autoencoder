{
 "cells": [
  {
   "cell_type": "code",
   "execution_count": 44,
   "metadata": {},
   "outputs": [],
   "source": [
    "import keras\n",
    "from keras.datasets import mnist\n",
    "from keras.models import Sequential\n",
    "from keras.layers import Dense, Dropout, Flatten\n",
    "from keras.layers import Conv2D, MaxPooling2D\n",
    "from keras.layers import Input, Dense\n",
    "from keras.optimizers import RMSprop\n",
    "from keras import backend as K\n",
    "from keras.models import Model\n",
    "from keras.datasets import mnist\n",
    "from keras import regularizers\n",
    "\n",
    "from sklearn.linear_model import LogisticRegression\n",
    "from sklearn.ensemble import RandomForestClassifier\n",
    "from sklearn.svm import LinearSVC\n",
    "from sklearn.metrics import accuracy_score\n",
    "\n",
    "import numpy as np\n",
    "import matplotlib.pyplot as plt\n",
    "\n",
    "def plot_traincurve(history):\n",
    "    colors = {'loss':'r', 'acc':'b', 'val_loss':'m', 'val_acc':'g'}\n",
    "    plt.figure(figsize=(10,6))\n",
    "    plt.title(\"Training Curve\") \n",
    "    plt.xlabel(\"Epoch\")\n",
    "\n",
    "    for measure in history.keys():\n",
    "        color = colors[measure]\n",
    "        ln = len(history[measure])\n",
    "        plt.plot(range(1,ln+1), history[measure], color + '-', label=measure)  # use last 2 values to draw line\n",
    "\n",
    "    plt.legend(loc='upper left', scatterpoints = 1, frameon=False)"
   ]
  },
  {
   "cell_type": "markdown",
   "metadata": {},
   "source": [
    "# Neural network original data"
   ]
  },
  {
   "cell_type": "code",
   "execution_count": 12,
   "metadata": {
    "scrolled": false
   },
   "outputs": [
    {
     "name": "stdout",
     "output_type": "stream",
     "text": [
      "(60000, 'train samples')\n",
      "(10000, 'test samples')\n",
      "_________________________________________________________________\n",
      "Layer (type)                 Output Shape              Param #   \n",
      "=================================================================\n",
      "dense_9 (Dense)              (None, 512)               401920    \n",
      "_________________________________________________________________\n",
      "dropout_5 (Dropout)          (None, 512)               0         \n",
      "_________________________________________________________________\n",
      "dense_10 (Dense)             (None, 512)               262656    \n",
      "_________________________________________________________________\n",
      "dropout_6 (Dropout)          (None, 512)               0         \n",
      "_________________________________________________________________\n",
      "dense_11 (Dense)             (None, 10)                5130      \n",
      "=================================================================\n",
      "Total params: 669,706\n",
      "Trainable params: 669,706\n",
      "Non-trainable params: 0\n",
      "_________________________________________________________________\n",
      "Train on 60000 samples, validate on 10000 samples\n",
      "Epoch 1/30\n",
      "60000/60000 [==============================] - 4s 69us/step - loss: 0.2442 - acc: 0.9255 - val_loss: 0.1124 - val_acc: 0.9648\n",
      "Epoch 2/30\n",
      "60000/60000 [==============================] - 4s 65us/step - loss: 0.0997 - acc: 0.9700 - val_loss: 0.0846 - val_acc: 0.9738\n",
      "Epoch 3/30\n",
      "60000/60000 [==============================] - 4s 65us/step - loss: 0.0752 - acc: 0.9774 - val_loss: 0.0770 - val_acc: 0.9780\n",
      "Epoch 4/30\n",
      "60000/60000 [==============================] - 4s 65us/step - loss: 0.0596 - acc: 0.9819 - val_loss: 0.0723 - val_acc: 0.9790\n",
      "Epoch 5/30\n",
      "60000/60000 [==============================] - 4s 65us/step - loss: 0.0503 - acc: 0.9848 - val_loss: 0.0775 - val_acc: 0.9806\n",
      "Epoch 6/30\n",
      "60000/60000 [==============================] - 4s 65us/step - loss: 0.0436 - acc: 0.9870 - val_loss: 0.0827 - val_acc: 0.9788\n",
      "Epoch 7/30\n",
      "60000/60000 [==============================] - 4s 65us/step - loss: 0.0379 - acc: 0.9889 - val_loss: 0.0833 - val_acc: 0.9811\n",
      "Epoch 8/30\n",
      "60000/60000 [==============================] - 4s 65us/step - loss: 0.0352 - acc: 0.9900 - val_loss: 0.0846 - val_acc: 0.9822\n",
      "Epoch 9/30\n",
      "60000/60000 [==============================] - 4s 65us/step - loss: 0.0314 - acc: 0.9909 - val_loss: 0.0875 - val_acc: 0.9834\n",
      "Epoch 10/30\n",
      "60000/60000 [==============================] - 4s 65us/step - loss: 0.0293 - acc: 0.9916 - val_loss: 0.0894 - val_acc: 0.9817\n",
      "Epoch 11/30\n",
      "60000/60000 [==============================] - 4s 65us/step - loss: 0.0268 - acc: 0.9923 - val_loss: 0.0964 - val_acc: 0.9825\n",
      "Epoch 12/30\n",
      "60000/60000 [==============================] - 4s 65us/step - loss: 0.0256 - acc: 0.9930 - val_loss: 0.0914 - val_acc: 0.9833\n",
      "Epoch 13/30\n",
      "60000/60000 [==============================] - 4s 65us/step - loss: 0.0236 - acc: 0.9937 - val_loss: 0.0916 - val_acc: 0.9842\n",
      "Epoch 14/30\n",
      "60000/60000 [==============================] - 4s 65us/step - loss: 0.0234 - acc: 0.9939 - val_loss: 0.1267 - val_acc: 0.9769\n",
      "Epoch 15/30\n",
      "60000/60000 [==============================] - 4s 65us/step - loss: 0.0206 - acc: 0.9941 - val_loss: 0.1003 - val_acc: 0.9840\n",
      "Epoch 16/30\n",
      "60000/60000 [==============================] - 4s 65us/step - loss: 0.0202 - acc: 0.9948 - val_loss: 0.1060 - val_acc: 0.9830\n",
      "Epoch 17/30\n",
      "60000/60000 [==============================] - 4s 65us/step - loss: 0.0199 - acc: 0.9948 - val_loss: 0.1050 - val_acc: 0.9830\n",
      "Epoch 18/30\n",
      "60000/60000 [==============================] - 4s 65us/step - loss: 0.0183 - acc: 0.9949 - val_loss: 0.1161 - val_acc: 0.9811\n",
      "Epoch 19/30\n",
      "60000/60000 [==============================] - 4s 65us/step - loss: 0.0183 - acc: 0.9953 - val_loss: 0.1118 - val_acc: 0.9835\n",
      "Epoch 20/30\n",
      "60000/60000 [==============================] - 4s 65us/step - loss: 0.0196 - acc: 0.9952 - val_loss: 0.1171 - val_acc: 0.9824\n",
      "Epoch 21/30\n",
      "60000/60000 [==============================] - 4s 65us/step - loss: 0.0166 - acc: 0.9957 - val_loss: 0.1100 - val_acc: 0.9839\n",
      "Epoch 22/30\n",
      "60000/60000 [==============================] - 4s 65us/step - loss: 0.0159 - acc: 0.9962 - val_loss: 0.1352 - val_acc: 0.9818\n",
      "Epoch 23/30\n",
      "60000/60000 [==============================] - 4s 65us/step - loss: 0.0165 - acc: 0.9959 - val_loss: 0.1034 - val_acc: 0.9850\n",
      "Epoch 24/30\n",
      "60000/60000 [==============================] - 4s 65us/step - loss: 0.0176 - acc: 0.9958 - val_loss: 0.1124 - val_acc: 0.9840\n",
      "Epoch 25/30\n",
      "60000/60000 [==============================] - 4s 65us/step - loss: 0.0157 - acc: 0.9961 - val_loss: 0.1149 - val_acc: 0.9832\n",
      "Epoch 26/30\n",
      "60000/60000 [==============================] - 4s 65us/step - loss: 0.0148 - acc: 0.9965 - val_loss: 0.1214 - val_acc: 0.9830\n",
      "Epoch 27/30\n",
      "60000/60000 [==============================] - 4s 65us/step - loss: 0.0148 - acc: 0.9966 - val_loss: 0.1158 - val_acc: 0.9842\n",
      "Epoch 28/30\n",
      "60000/60000 [==============================] - 4s 65us/step - loss: 0.0156 - acc: 0.9967 - val_loss: 0.1199 - val_acc: 0.9834\n",
      "Epoch 29/30\n",
      "60000/60000 [==============================] - 4s 65us/step - loss: 0.0178 - acc: 0.9961 - val_loss: 0.1318 - val_acc: 0.9835\n",
      "Epoch 30/30\n",
      "60000/60000 [==============================] - 4s 65us/step - loss: 0.0161 - acc: 0.9964 - val_loss: 0.1266 - val_acc: 0.9832\n",
      "('Test loss:', 0.12655031166211428)\n",
      "('Test accuracy:', 0.9832)\n"
     ]
    },
    {
     "data": {
      "image/png": "[encoded data removed]",
      "text/plain": [
       "<matplotlib.figure.Figure at 0x7f976006c610>"
      ]
     },
     "metadata": {},
     "output_type": "display_data"
    }
   ],
   "source": [
    "batch_size = 128\n",
    "num_classes = 10\n",
    "epochs = 30\n",
    "\n",
    "# input image dimensions\n",
    "img_rows, img_cols = 28, 28\n",
    "\n",
    "# the data, split between train and test sets\n",
    "(x_train, y_train), (x_test, y_test) = mnist.load_data()\n",
    "\n",
    "x_train = x_train.reshape(60000, 784)\n",
    "x_test = x_test.reshape(10000, 784)\n",
    "x_train = x_train.astype('float32')\n",
    "x_test = x_test.astype('float32')\n",
    "x_train /= 255\n",
    "x_test /= 255\n",
    "print(x_train.shape[0], 'train samples')\n",
    "print(x_test.shape[0], 'test samples')\n",
    "\n",
    "# convert class vectors to binary class matrices\n",
    "y_train = keras.utils.to_categorical(y_train, num_classes)\n",
    "y_test = keras.utils.to_categorical(y_test, num_classes)\n",
    "\n",
    "model = Sequential()\n",
    "model.add(Dense(512, activation='relu', input_shape=(784,)))\n",
    "model.add(Dropout(0.2))\n",
    "model.add(Dense(512, activation='relu'))\n",
    "model.add(Dropout(0.2))\n",
    "model.add(Dense(num_classes, activation='softmax'))\n",
    "\n",
    "model.summary()\n",
    "\n",
    "model.compile(loss='categorical_crossentropy',\n",
    "              optimizer=RMSprop(),\n",
    "              metrics=['accuracy'])\n",
    "\n",
    "history = model.fit(x_train, y_train,\n",
    "                    batch_size=batch_size,\n",
    "                    epochs=epochs,\n",
    "                    verbose=1,\n",
    "                    validation_data=(x_test, y_test))\n",
    "score = model.evaluate(x_test, y_test, verbose=0)\n",
    "\n",
    "print('Test loss:', score[0])\n",
    "print('Test accuracy:', score[1])\n",
    "plot_traincurve(history.history)"
   ]
  },
  {
   "cell_type": "markdown",
   "metadata": {},
   "source": [
    "# Autoencoder"
   ]
  },
  {
   "cell_type": "code",
   "execution_count": 13,
   "metadata": {
    "scrolled": false
   },
   "outputs": [
    {
     "name": "stdout",
     "output_type": "stream",
     "text": [
      "Train on 60000 samples, validate on 10000 samples\n",
      "Epoch 1/30\n",
      "60000/60000 [==============================] - 3s 42us/step - loss: 0.3714 - val_loss: 0.2710\n",
      "Epoch 2/30\n",
      "60000/60000 [==============================] - 2s 37us/step - loss: 0.2639 - val_loss: 0.2529\n",
      "Epoch 3/30\n",
      "60000/60000 [==============================] - 2s 37us/step - loss: 0.2421 - val_loss: 0.2293\n",
      "Epoch 4/30\n",
      "60000/60000 [==============================] - 2s 37us/step - loss: 0.2219 - val_loss: 0.2123\n",
      "Epoch 5/30\n",
      "60000/60000 [==============================] - 2s 37us/step - loss: 0.2073 - val_loss: 0.1997\n",
      "Epoch 6/30\n",
      "60000/60000 [==============================] - 2s 37us/step - loss: 0.1961 - val_loss: 0.1898\n",
      "Epoch 7/30\n",
      "60000/60000 [==============================] - 2s 37us/step - loss: 0.1873 - val_loss: 0.1820\n",
      "Epoch 8/30\n",
      "60000/60000 [==============================] - 2s 37us/step - loss: 0.1802 - val_loss: 0.1755\n",
      "Epoch 9/30\n",
      "60000/60000 [==============================] - 2s 38us/step - loss: 0.1742 - val_loss: 0.1701\n",
      "Epoch 10/30\n",
      "60000/60000 [==============================] - 2s 37us/step - loss: 0.1690 - val_loss: 0.1653\n",
      "Epoch 11/30\n",
      "60000/60000 [==============================] - 2s 38us/step - loss: 0.1645 - val_loss: 0.1609\n",
      "Epoch 12/30\n",
      "60000/60000 [==============================] - 2s 37us/step - loss: 0.1604 - val_loss: 0.1570\n",
      "Epoch 13/30\n",
      "60000/60000 [==============================] - 2s 38us/step - loss: 0.1566 - val_loss: 0.1534\n",
      "Epoch 14/30\n",
      "60000/60000 [==============================] - 2s 38us/step - loss: 0.1531 - val_loss: 0.1500\n",
      "Epoch 15/30\n",
      "60000/60000 [==============================] - 2s 37us/step - loss: 0.1497 - val_loss: 0.1466\n",
      "Epoch 16/30\n",
      "60000/60000 [==============================] - 2s 37us/step - loss: 0.1465 - val_loss: 0.1435\n",
      "Epoch 17/30\n",
      "60000/60000 [==============================] - 2s 38us/step - loss: 0.1435 - val_loss: 0.1406\n",
      "Epoch 18/30\n",
      "60000/60000 [==============================] - 2s 37us/step - loss: 0.1407 - val_loss: 0.1379\n",
      "Epoch 19/30\n",
      "60000/60000 [==============================] - 2s 37us/step - loss: 0.1381 - val_loss: 0.1353\n",
      "Epoch 20/30\n",
      "60000/60000 [==============================] - 2s 37us/step - loss: 0.1357 - val_loss: 0.1330\n",
      "Epoch 21/30\n",
      "60000/60000 [==============================] - 2s 38us/step - loss: 0.1334 - val_loss: 0.1307\n",
      "Epoch 22/30\n",
      "60000/60000 [==============================] - 2s 38us/step - loss: 0.1312 - val_loss: 0.1286\n",
      "Epoch 23/30\n",
      "60000/60000 [==============================] - 2s 37us/step - loss: 0.1292 - val_loss: 0.1265\n",
      "Epoch 24/30\n",
      "60000/60000 [==============================] - 2s 37us/step - loss: 0.1272 - val_loss: 0.1246\n",
      "Epoch 25/30\n",
      "60000/60000 [==============================] - 2s 38us/step - loss: 0.1253 - val_loss: 0.1228\n",
      "Epoch 26/30\n",
      "60000/60000 [==============================] - 2s 37us/step - loss: 0.1236 - val_loss: 0.1210\n",
      "Epoch 27/30\n",
      "60000/60000 [==============================] - 2s 37us/step - loss: 0.1219 - val_loss: 0.1194\n",
      "Epoch 28/30\n",
      "60000/60000 [==============================] - 2s 38us/step - loss: 0.1203 - val_loss: 0.1178\n",
      "Epoch 29/30\n",
      "60000/60000 [==============================] - 2s 38us/step - loss: 0.1188 - val_loss: 0.1163\n",
      "Epoch 30/30\n",
      "60000/60000 [==============================] - 2s 37us/step - loss: 0.1174 - val_loss: 0.1150\n"
     ]
    },
    {
     "data": {
      "image/png": "[encoded data removed]",
      "text/plain": [
       "<matplotlib.figure.Figure at 0x7f97600c2150>"
      ]
     },
     "metadata": {},
     "output_type": "display_data"
    }
   ],
   "source": [
    "# this is the size of our encoded representations\n",
    "encoding_dim = 32  \n",
    "\n",
    "# this is our input placeholder\n",
    "input_img = Input(shape=(784,))\n",
    "# \"encoded\" is the encoded representation of the input\n",
    "encoded = Dense(encoding_dim, activation='relu')(input_img)\n",
    "# \"decoded\" is the lossy reconstruction of the input\n",
    "decoded = Dense(784, activation='sigmoid')(encoded)\n",
    "\n",
    "# this model maps an input to its reconstruction\n",
    "autoencoder = Model(input_img, decoded)\n",
    "\n",
    "# this model maps an input to its encoded representation\n",
    "encoder = Model(input_img, encoded)\n",
    "\n",
    "# create a placeholder for an encoded (32-dimensional) input\n",
    "encoded_input = Input(shape=(encoding_dim,))\n",
    "# retrieve the last layer of the autoencoder model\n",
    "decoder_layer = autoencoder.layers[-1]\n",
    "# create the decoder model\n",
    "decoder = Model(encoded_input, decoder_layer(encoded_input))\n",
    "\n",
    "autoencoder.compile(optimizer='adadelta', loss='binary_crossentropy')\n",
    "\n",
    "history = autoencoder.fit(x_train, x_train,\n",
    "                epochs=30,\n",
    "                batch_size=256,\n",
    "                shuffle=True,\n",
    "                validation_data=(x_test, x_test))\n",
    "plot_traincurve(history.history)\n",
    "\n",
    "encoded_imgs_train = encoder.predict(x_train)\n",
    "encoded_imgs_test = encoder.predict(x_test)\n",
    "decoded_imgs = decoder.predict(encoded_imgs_test)"
   ]
  },
  {
   "cell_type": "code",
   "execution_count": 14,
   "metadata": {},
   "outputs": [
    {
     "data": {
      "image/png": "[encoded data removed]",
      "text/plain": [
       "<matplotlib.figure.Figure at 0x7f976012f710>"
      ]
     },
     "metadata": {},
     "output_type": "display_data"
    }
   ],
   "source": [
    "n = 10  # how many digits we will display\n",
    "plt.figure(figsize=(20, 4))\n",
    "for i in range(n):\n",
    "    # display original\n",
    "    ax = plt.subplot(2, n, i + 1)\n",
    "    plt.imshow(x_test[i].reshape(28, 28))\n",
    "    plt.gray()\n",
    "    ax.get_xaxis().set_visible(False)\n",
    "    ax.get_yaxis().set_visible(False)\n",
    "\n",
    "    # display reconstruction\n",
    "    ax = plt.subplot(2, n, i + 1 + n)\n",
    "    plt.imshow(decoded_imgs[i].reshape(28, 28))\n",
    "    plt.gray()\n",
    "    ax.get_xaxis().set_visible(False)\n",
    "    ax.get_yaxis().set_visible(False)\n",
    "plt.show()"
   ]
  },
  {
   "cell_type": "markdown",
   "metadata": {},
   "source": [
    "# Neural network encoded data"
   ]
  },
  {
   "cell_type": "code",
   "execution_count": 15,
   "metadata": {
    "scrolled": false
   },
   "outputs": [
    {
     "name": "stdout",
     "output_type": "stream",
     "text": [
      "_________________________________________________________________\n",
      "Layer (type)                 Output Shape              Param #   \n",
      "=================================================================\n",
      "dense_14 (Dense)             (None, 512)               16896     \n",
      "_________________________________________________________________\n",
      "dropout_7 (Dropout)          (None, 512)               0         \n",
      "_________________________________________________________________\n",
      "dense_15 (Dense)             (None, 512)               262656    \n",
      "_________________________________________________________________\n",
      "dropout_8 (Dropout)          (None, 512)               0         \n",
      "_________________________________________________________________\n",
      "dense_16 (Dense)             (None, 10)                5130      \n",
      "=================================================================\n",
      "Total params: 284,682\n",
      "Trainable params: 284,682\n",
      "Non-trainable params: 0\n",
      "_________________________________________________________________\n",
      "Train on 60000 samples, validate on 10000 samples\n",
      "Epoch 1/30\n",
      "60000/60000 [==============================] - 3s 49us/step - loss: 0.5864 - acc: 0.8275 - val_loss: 0.3478 - val_acc: 0.8942\n",
      "Epoch 2/30\n",
      "60000/60000 [==============================] - 3s 45us/step - loss: 0.2896 - acc: 0.9114 - val_loss: 0.2025 - val_acc: 0.9388\n",
      "Epoch 3/30\n",
      "60000/60000 [==============================] - 3s 45us/step - loss: 0.2046 - acc: 0.9368 - val_loss: 0.1921 - val_acc: 0.9396\n",
      "Epoch 4/30\n",
      "60000/60000 [==============================] - 3s 45us/step - loss: 0.1696 - acc: 0.9480 - val_loss: 0.1313 - val_acc: 0.9595\n",
      "Epoch 5/30\n",
      "60000/60000 [==============================] - 3s 45us/step - loss: 0.1446 - acc: 0.9543 - val_loss: 0.1301 - val_acc: 0.9600\n",
      "Epoch 6/30\n",
      "60000/60000 [==============================] - 3s 45us/step - loss: 0.1305 - acc: 0.9597 - val_loss: 0.1024 - val_acc: 0.9673\n",
      "Epoch 7/30\n",
      "60000/60000 [==============================] - 3s 45us/step - loss: 0.1199 - acc: 0.9630 - val_loss: 0.1068 - val_acc: 0.9656\n",
      "Epoch 8/30\n",
      "60000/60000 [==============================] - 3s 45us/step - loss: 0.1122 - acc: 0.9645 - val_loss: 0.0950 - val_acc: 0.9704\n",
      "Epoch 9/30\n",
      "60000/60000 [==============================] - 3s 45us/step - loss: 0.1049 - acc: 0.9669 - val_loss: 0.0846 - val_acc: 0.9727\n",
      "Epoch 10/30\n",
      "60000/60000 [==============================] - 3s 45us/step - loss: 0.1003 - acc: 0.9687 - val_loss: 0.1012 - val_acc: 0.9691\n",
      "Epoch 11/30\n",
      "60000/60000 [==============================] - 3s 45us/step - loss: 0.0960 - acc: 0.9693 - val_loss: 0.0856 - val_acc: 0.9714\n",
      "Epoch 12/30\n",
      "60000/60000 [==============================] - 3s 45us/step - loss: 0.0914 - acc: 0.9711 - val_loss: 0.0841 - val_acc: 0.9737\n",
      "Epoch 13/30\n",
      "60000/60000 [==============================] - 3s 45us/step - loss: 0.0880 - acc: 0.9724 - val_loss: 0.0978 - val_acc: 0.9698\n",
      "Epoch 14/30\n",
      "60000/60000 [==============================] - 3s 45us/step - loss: 0.0853 - acc: 0.9725 - val_loss: 0.0817 - val_acc: 0.9765\n",
      "Epoch 15/30\n",
      "60000/60000 [==============================] - 3s 45us/step - loss: 0.0833 - acc: 0.9737 - val_loss: 0.0831 - val_acc: 0.9753\n",
      "Epoch 16/30\n",
      "60000/60000 [==============================] - 3s 45us/step - loss: 0.0809 - acc: 0.9743 - val_loss: 0.0751 - val_acc: 0.9773\n",
      "Epoch 17/30\n",
      "60000/60000 [==============================] - 3s 45us/step - loss: 0.0789 - acc: 0.9753 - val_loss: 0.0786 - val_acc: 0.9767\n",
      "Epoch 18/30\n",
      "60000/60000 [==============================] - 3s 45us/step - loss: 0.0773 - acc: 0.9756 - val_loss: 0.0964 - val_acc: 0.9710\n",
      "Epoch 19/30\n",
      "60000/60000 [==============================] - 3s 45us/step - loss: 0.0750 - acc: 0.9761 - val_loss: 0.0799 - val_acc: 0.9762\n",
      "Epoch 20/30\n",
      "60000/60000 [==============================] - 3s 45us/step - loss: 0.0734 - acc: 0.9769 - val_loss: 0.0805 - val_acc: 0.9770\n",
      "Epoch 21/30\n",
      "60000/60000 [==============================] - 3s 45us/step - loss: 0.0712 - acc: 0.9778 - val_loss: 0.0857 - val_acc: 0.9750\n",
      "Epoch 22/30\n",
      "60000/60000 [==============================] - 3s 45us/step - loss: 0.0725 - acc: 0.9774 - val_loss: 0.0783 - val_acc: 0.9759\n",
      "Epoch 23/30\n",
      "60000/60000 [==============================] - 3s 45us/step - loss: 0.0691 - acc: 0.9786 - val_loss: 0.0786 - val_acc: 0.9779\n",
      "Epoch 24/30\n",
      "60000/60000 [==============================] - 3s 45us/step - loss: 0.0693 - acc: 0.9785 - val_loss: 0.0921 - val_acc: 0.9753\n",
      "Epoch 25/30\n",
      "60000/60000 [==============================] - 3s 45us/step - loss: 0.0674 - acc: 0.9791 - val_loss: 0.0787 - val_acc: 0.9768\n",
      "Epoch 26/30\n",
      "60000/60000 [==============================] - 3s 45us/step - loss: 0.0677 - acc: 0.9786 - val_loss: 0.0877 - val_acc: 0.9746\n",
      "Epoch 27/30\n",
      "60000/60000 [==============================] - 3s 45us/step - loss: 0.0658 - acc: 0.9797 - val_loss: 0.0784 - val_acc: 0.9796\n",
      "Epoch 28/30\n",
      "60000/60000 [==============================] - 3s 44us/step - loss: 0.0651 - acc: 0.9801 - val_loss: 0.0803 - val_acc: 0.9779\n",
      "Epoch 29/30\n",
      "60000/60000 [==============================] - 3s 45us/step - loss: 0.0642 - acc: 0.9801 - val_loss: 0.0748 - val_acc: 0.9803\n",
      "Epoch 30/30\n",
      "60000/60000 [==============================] - 3s 45us/step - loss: 0.0620 - acc: 0.9803 - val_loss: 0.0752 - val_acc: 0.9799\n",
      "('Test loss:', 0.07522320814513396)\n",
      "('Test accuracy:', 0.9799)\n"
     ]
    },
    {
     "data": {
      "image/png": "[encoded data removed]",
      "text/plain": [
       "<matplotlib.figure.Figure at 0x7f9777a0f7d0>"
      ]
     },
     "metadata": {},
     "output_type": "display_data"
    }
   ],
   "source": [
    "encoded_imgs_train_normalized = encoded_imgs_train / np.max(encoded_imgs_train)\n",
    "encoded_imgs_test_normalized = encoded_imgs_test / np.max(encoded_imgs_test)\n",
    "\n",
    "model = Sequential()\n",
    "model.add(Dense(512, activation='relu', input_shape=(encoding_dim,)))\n",
    "model.add(Dropout(0.2))\n",
    "model.add(Dense(512, activation='relu'))\n",
    "model.add(Dropout(0.2))\n",
    "model.add(Dense(num_classes, activation='softmax'))\n",
    "\n",
    "model.summary()\n",
    "\n",
    "model.compile(loss='categorical_crossentropy',\n",
    "              optimizer=RMSprop(),\n",
    "              metrics=['accuracy'])\n",
    "\n",
    "history = model.fit(encoded_imgs_train_normalized, y_train,\n",
    "                    batch_size=batch_size,\n",
    "                    epochs=epochs,\n",
    "                    verbose=1,\n",
    "                    validation_data=(encoded_imgs_test_normalized, y_test))\n",
    "score = model.evaluate(encoded_imgs_test_normalized, y_test, verbose=0)\n",
    "\n",
    "print('Test loss:', score[0])\n",
    "print('Test accuracy:', score[1])\n",
    "plot_traincurve(history.history)"
   ]
  },
  {
   "cell_type": "markdown",
   "metadata": {},
   "source": [
    "# Logistic Regression original data"
   ]
  },
  {
   "cell_type": "code",
   "execution_count": 52,
   "metadata": {},
   "outputs": [
    {
     "name": "stdout",
     "output_type": "stream",
     "text": [
      "0.9201\n"
     ]
    }
   ],
   "source": [
    "logisticRegr = LogisticRegression()\n",
    "logisticRegr.fit(x_train, np.argmax(y_train, axis=1))\n",
    "score = logisticRegr.score(x_test, np.argmax(y_test, axis=1))\n",
    "print(score)"
   ]
  },
  {
   "cell_type": "markdown",
   "metadata": {},
   "source": [
    "# Logistic Regression encoded data"
   ]
  },
  {
   "cell_type": "code",
   "execution_count": 53,
   "metadata": {},
   "outputs": [
    {
     "name": "stdout",
     "output_type": "stream",
     "text": [
      "0.8746\n"
     ]
    }
   ],
   "source": [
    "logisticRegr = LogisticRegression()\n",
    "logisticRegr.fit(encoded_imgs_train_normalized, np.argmax(y_train, axis=1))\n",
    "score = logisticRegr.score(encoded_imgs_test_normalized, np.argmax(y_test, axis=1))\n",
    "print(score)"
   ]
  },
  {
   "cell_type": "markdown",
   "metadata": {},
   "source": [
    "# SVM original data"
   ]
  },
  {
   "cell_type": "code",
   "execution_count": 54,
   "metadata": {},
   "outputs": [
    {
     "name": "stdout",
     "output_type": "stream",
     "text": [
      "Linear SVM accuracy:  0.9183\n"
     ]
    }
   ],
   "source": [
    "clf_svm = LinearSVC()\n",
    "clf_svm.fit(x_train, np.argmax(y_train, axis=1))\n",
    "y_pred_svm = clf_svm.predict(x_test)\n",
    "acc_svm = accuracy_score(np.argmax(y_test, axis=1), y_pred_svm)\n",
    "print \"Linear SVM accuracy: \",acc_svm"
   ]
  },
  {
   "cell_type": "markdown",
   "metadata": {},
   "source": [
    "# SVM encoded data"
   ]
  },
  {
   "cell_type": "code",
   "execution_count": 55,
   "metadata": {},
   "outputs": [
    {
     "name": "stdout",
     "output_type": "stream",
     "text": [
      "Linear SVM accuracy:  0.8804\n"
     ]
    }
   ],
   "source": [
    "clf_svm = LinearSVC()\n",
    "clf_svm.fit(encoded_imgs_train_normalized, np.argmax(y_train, axis=1))\n",
    "y_pred_svm = clf_svm.predict(encoded_imgs_test_normalized)\n",
    "acc_svm = accuracy_score(np.argmax(y_test, axis=1), y_pred_svm)\n",
    "print \"Linear SVM accuracy: \",acc_svm"
   ]
  },
  {
   "cell_type": "markdown",
   "metadata": {},
   "source": [
    "# Random Forest original data"
   ]
  },
  {
   "cell_type": "code",
   "execution_count": 56,
   "metadata": {},
   "outputs": [
    {
     "name": "stdout",
     "output_type": "stream",
     "text": [
      "random forest accuracy:  0.9471\n"
     ]
    }
   ],
   "source": [
    "clf_rf = RandomForestClassifier()\n",
    "clf_rf.fit(x_train, np.argmax(y_train, axis=1))\n",
    "y_pred_rf = clf_rf.predict(x_test)\n",
    "acc_rf = accuracy_score(np.argmax(y_test, axis=1), y_pred_rf)\n",
    "print \"random forest accuracy: \",acc_rf"
   ]
  },
  {
   "cell_type": "markdown",
   "metadata": {},
   "source": [
    "# Random Forest encoded data"
   ]
  },
  {
   "cell_type": "code",
   "execution_count": 57,
   "metadata": {},
   "outputs": [
    {
     "name": "stdout",
     "output_type": "stream",
     "text": [
      "random forest accuracy:  0.9182\n"
     ]
    }
   ],
   "source": [
    "clf_rf = RandomForestClassifier()\n",
    "clf_rf.fit(encoded_imgs_train_normalized, np.argmax(y_train, axis=1))\n",
    "y_pred_rf = clf_rf.predict(encoded_imgs_test_normalized)\n",
    "acc_rf = accuracy_score(np.argmax(y_test, axis=1), y_pred_rf)\n",
    "print \"random forest accuracy: \",acc_rf"
   ]
  }
 ],
 "metadata": {
  "kernelspec": {
   "display_name": "Python 2",
   "language": "python",
   "name": "python2"
  },
  "language_info": {
   "codemirror_mode": {
    "name": "ipython",
    "version": 2
   },
   "file_extension": ".py",
   "mimetype": "text/x-python",
   "name": "python",
   "nbconvert_exporter": "python",
   "pygments_lexer": "ipython2",
   "version": "2.7.14"
  }
 },
 "nbformat": 4,
 "nbformat_minor": 2
}
